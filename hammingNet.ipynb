{
  "nbformat": 4,
  "nbformat_minor": 0,
  "metadata": {
    "colab": {
      "name": "NNDL HW4 Q4.ipynb",
      "provenance": []
    },
    "kernelspec": {
      "name": "python3",
      "display_name": "Python 3"
    },
    "language_info": {
      "name": "python"
    }
  },
  "cells": [
    {
      "cell_type": "markdown",
      "metadata": {
        "id": "ESSGTKB8QK_7"
      },
      "source": [
        "## Imports"
      ]
    },
    {
      "cell_type": "code",
      "metadata": {
        "id": "uhs5DW3bQFka"
      },
      "source": [
        "import numpy as np"
      ],
      "execution_count": null,
      "outputs": []
    },
    {
      "cell_type": "markdown",
      "metadata": {
        "id": "3RzERBAuQOwy"
      },
      "source": [
        "## Hamming Net Implementation"
      ]
    },
    {
      "cell_type": "code",
      "metadata": {
        "id": "MlubEpG1QSLp"
      },
      "source": [
        "def do_hamming_net_algorithm(e, x):\n",
        "  m = len(e)\n",
        "  n = len(x)\n",
        "  ## Step 0 \n",
        "  w = np.array([[e[i][j]/2 for i in range(m)] for j in range(n)])\n",
        "  b = np.array([n/2 for i in range(m)])\n",
        "  ## Step 1\n",
        "  ## Step 2\n",
        "  y_in = b + np.dot(x, w)\n",
        "  print('Each Node Out is: {}'.format(y_in))\n",
        "  return [e[i] for i in do_max_net_algorithm(y_in, 0.13).flatten()]"
      ],
      "execution_count": null,
      "outputs": []
    },
    {
      "cell_type": "code",
      "metadata": {
        "id": "4jskNn4UgM2-"
      },
      "source": [
        "def do_max_net_algorithm(input, e):\n",
        "  ## Step 0\n",
        "  num_count = len(input)\n",
        "  weights = [[-e for i in range(num_count)] for j in range(num_count)]\n",
        "  for j in range(num_count):\n",
        "    for i in range(num_count):\n",
        "      if i == j:\n",
        "        weights[j][i] = 1\n",
        "  A = np.array(input)\n",
        "  while(True):\n",
        "    A_new = []\n",
        "    for a in A:\n",
        "      x = a - e*(A.sum()-a)\n",
        "      if x >= 0: a_new = x\n",
        "      else: a_new = 0\n",
        "      A_new.append(a_new)\n",
        "    A = np.array(A_new)\n",
        "    # if  np.count_nonzero(A)<2:\n",
        "    #   break\n",
        "    if len(np.unique(A)) < 3 and 0 in np.unique(A):\n",
        "      break \n",
        "  return np.argwhere(A>1)\n",
        "  # np.argmax(A, axis=None)"
      ],
      "execution_count": null,
      "outputs": []
    },
    {
      "cell_type": "markdown",
      "metadata": {
        "id": "Teaisiwbmfg7"
      },
      "source": [
        "### V1"
      ]
    },
    {
      "cell_type": "code",
      "metadata": {
        "colab": {
          "base_uri": "https://localhost:8080/"
        },
        "id": "tZhFTi78ec1f",
        "outputId": "9c27c686-ddaf-4332-9392-98e4ac91ec53"
      },
      "source": [
        "inp = [1,1,1,1,1,1]\n",
        "res = do_hamming_net_algorithm([[1,-1,1,-1,1,-1], [-1,1,-1,1,-1,-1], [1,1,1,-1,-1,-1]], inp)\n",
        "print('Best Match Exemplet for Input Vector {} is {}'.format(inp, res))"
      ],
      "execution_count": null,
      "outputs": [
        {
          "output_type": "stream",
          "text": [
            "Each Node Out is: [3. 2. 3.]\n",
            "Best Match Exemplet for Input Vector [1, 1, 1, 1, 1, 1] is [[1, -1, 1, -1, 1, -1], [1, 1, 1, -1, -1, -1]]\n"
          ],
          "name": "stdout"
        }
      ]
    },
    {
      "cell_type": "markdown",
      "metadata": {
        "id": "W1nFvaK0mho5"
      },
      "source": [
        "### V2"
      ]
    },
    {
      "cell_type": "code",
      "metadata": {
        "colab": {
          "base_uri": "https://localhost:8080/"
        },
        "id": "MYoeW039enIq",
        "outputId": "17b200a5-aef0-4378-ea2b-15d303e767da"
      },
      "source": [
        "inp = [-1,1,-1,-1,1,1]\n",
        "res = do_hamming_net_algorithm([[1,-1,1,-1,1,-1], [-1,1,-1,1,-1,-1], [1,1,1,-1,-1,-1]], inp)\n",
        "print('Best Match Exemplet for Input Vector {} is {}'.format(inp, res))"
      ],
      "execution_count": null,
      "outputs": [
        {
          "output_type": "stream",
          "text": [
            "Each Node Out is: [2. 3. 2.]\n",
            "Best Match Exemplet for Input Vector [-1, 1, -1, -1, 1, 1] is [[-1, 1, -1, 1, -1, -1]]\n"
          ],
          "name": "stdout"
        }
      ]
    },
    {
      "cell_type": "markdown",
      "metadata": {
        "id": "YtZITef3miqv"
      },
      "source": [
        "### V3"
      ]
    },
    {
      "cell_type": "code",
      "metadata": {
        "colab": {
          "base_uri": "https://localhost:8080/"
        },
        "id": "51482FUgmQUT",
        "outputId": "625bf664-66be-4f9b-f1c2-ded86f374925"
      },
      "source": [
        "inp = [-1,-1,1,1,1,1]\n",
        "res = do_hamming_net_algorithm([[1,-1,1,-1,1,-1], [-1,1,-1,1,-1,-1], [1,1,1,-1,-1,-1]], inp)\n",
        "print('Best Match Exemplet for Input Vector {} is {}'.format(inp, res))"
      ],
      "execution_count": null,
      "outputs": [
        {
          "output_type": "stream",
          "text": [
            "Each Node Out is: [3. 2. 1.]\n",
            "Best Match Exemplet for Input Vector [-1, -1, 1, 1, 1, 1] is [[1, -1, 1, -1, 1, -1]]\n"
          ],
          "name": "stdout"
        }
      ]
    },
    {
      "cell_type": "markdown",
      "metadata": {
        "id": "Cmk3zqSSmj3S"
      },
      "source": [
        "### V4"
      ]
    },
    {
      "cell_type": "code",
      "metadata": {
        "colab": {
          "base_uri": "https://localhost:8080/"
        },
        "id": "bLx8D6DomUt8",
        "outputId": "e8181091-aaa1-4115-b2c8-0aae1cf753aa"
      },
      "source": [
        "inp = [-1,-1,1,1,-1,1]\n",
        "res = do_hamming_net_algorithm([[1,-1,1,-1,1,-1], [-1,1,-1,1,-1,-1], [1,1,1,-1,-1,-1]], inp)\n",
        "print('Best Match Exemplet for Input Vector {} is {}'.format(inp, res))"
      ],
      "execution_count": null,
      "outputs": [
        {
          "output_type": "stream",
          "text": [
            "Each Node Out is: [2. 3. 2.]\n",
            "Best Match Exemplet for Input Vector [-1, -1, 1, 1, -1, 1] is [[-1, 1, -1, 1, -1, -1]]\n"
          ],
          "name": "stdout"
        }
      ]
    },
    {
      "cell_type": "markdown",
      "metadata": {
        "id": "HDYeBRNemk1X"
      },
      "source": [
        "### V5"
      ]
    },
    {
      "cell_type": "code",
      "metadata": {
        "colab": {
          "base_uri": "https://localhost:8080/"
        },
        "id": "q1lnay5UmaBY",
        "outputId": "c3fdf923-aed1-460f-86c3-597dd2b71bc5"
      },
      "source": [
        "inp = [-1,1,1,-1,-1,-1]\n",
        "res = do_hamming_net_algorithm([[1,-1,1,-1,1,-1], [-1,1,-1,1,-1,-1], [1,1,1,-1,-1,-1]], inp)\n",
        "print('Best Match Exemplet for Input Vector {} is {}'.format(inp, res))"
      ],
      "execution_count": null,
      "outputs": [
        {
          "output_type": "stream",
          "text": [
            "Each Node Out is: [3. 4. 5.]\n",
            "Best Match Exemplet for Input Vector [-1, 1, 1, -1, -1, -1] is [[1, 1, 1, -1, -1, -1]]\n"
          ],
          "name": "stdout"
        }
      ]
    },
    {
      "cell_type": "code",
      "metadata": {
        "id": "offgBbxomeTS"
      },
      "source": [
        ""
      ],
      "execution_count": null,
      "outputs": []
    }
  ]
}