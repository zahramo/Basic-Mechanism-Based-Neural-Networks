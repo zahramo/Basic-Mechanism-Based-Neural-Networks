{
  "nbformat": 4,
  "nbformat_minor": 0,
  "metadata": {
    "colab": {
      "name": "NNDL HW4 Q2.ipynb",
      "provenance": [],
      "collapsed_sections": []
    },
    "kernelspec": {
      "name": "python3",
      "display_name": "Python 3"
    },
    "language_info": {
      "name": "python"
    }
  },
  "cells": [
    {
      "cell_type": "markdown",
      "metadata": {
        "id": "WWOKrLpdGKxd"
      },
      "source": [
        "## Imports"
      ]
    },
    {
      "cell_type": "code",
      "metadata": {
        "id": "wQ1Wd3x3JFVI"
      },
      "source": [
        "import numpy as np"
      ],
      "execution_count": null,
      "outputs": []
    },
    {
      "cell_type": "markdown",
      "metadata": {
        "id": "kiYrTuE9NOYC"
      },
      "source": [
        "## Max Net Implemnetation"
      ]
    },
    {
      "cell_type": "code",
      "metadata": {
        "id": "3l_fmbn_FlQE"
      },
      "source": [
        "def do_max_net_algorithm(input, e):\n",
        "  num_count = len(input)\n",
        "  A = np.array(input)\n",
        "  print(*A)\n",
        "  while(True):\n",
        "    A_new = []\n",
        "    for a in A:\n",
        "      x = a - e*(A.sum()-a)\n",
        "      if x >= 0: a_new = x\n",
        "      else: a_new = 0\n",
        "      A_new.append(a_new)\n",
        "    A = np.array(A_new)\n",
        "    print(*A)\n",
        "    if  np.count_nonzero(A)<2:\n",
        "      break\n",
        "  return input[np.argmax(A, axis=None)]"
      ],
      "execution_count": null,
      "outputs": []
    },
    {
      "cell_type": "code",
      "metadata": {
        "colab": {
          "base_uri": "https://localhost:8080/"
        },
        "id": "9-ypMzqCHPgU",
        "outputId": "ee291985-b6a3-4d18-fa4b-526828944c40"
      },
      "source": [
        "max = do_max_net_algorithm([1.2, 1.1, 0.5, 1.5, 1.13, 0.8], 0.13)\n",
        "print('Max Number is {}'.format(max))"
      ],
      "execution_count": null,
      "outputs": [
        {
          "output_type": "stream",
          "text": [
            "1.2 1.1 0.5 1.5 1.13 0.8\n",
            "0.5461 0.43310000000000015 0.0 0.8851 0.46699999999999997 0.09410000000000007\n",
            "0.30179100000000003 0.17410100000000012 0.0 0.6848609999999999 0.21240799999999993 0.0\n",
            "0.16251290000000004 0.018223200000000106 0.0 0.595382 0.061510109999999896 0.0\n",
            "0.07474790970000003 0.0 0.0 0.5638899927 0.0 0.0\n",
            "0.0014422106490000336 0.0 0.0 0.554172764439 0.0 0.0\n",
            "0.0 0.0 0.0 0.55398527705463 0.0 0.0\n",
            "Max Number is 1.5\n"
          ],
          "name": "stdout"
        }
      ]
    },
    {
      "cell_type": "markdown",
      "metadata": {
        "id": "fKiXhPseRSIs"
      },
      "source": [
        "### Modified Max Net Implemnetation"
      ]
    },
    {
      "cell_type": "code",
      "metadata": {
        "id": "NDM_VW-IHVnj"
      },
      "source": [
        "def do_modified_max_net_algorithm(input, e):\n",
        "  max_pos = do_max_net_algorithm(input, e)\n",
        "  max_neg = do_max_net_algorithm([-x for x in input], e)\n",
        "  max = do_max_net_algorithm([max_pos, max_neg], e)\n",
        "  return max"
      ],
      "execution_count": null,
      "outputs": []
    },
    {
      "cell_type": "code",
      "metadata": {
        "colab": {
          "base_uri": "https://localhost:8080/"
        },
        "id": "6ieVQd0OJI5t",
        "outputId": "78529e03-f649-466e-cfb4-421c4794385c"
      },
      "source": [
        "max = do_modified_max_net_algorithm([1.2, 1.1, 0.5, -1.5, 1.13, -0.8], 0.13)\n",
        "print('Max Number is {}'.format(max))"
      ],
      "execution_count": null,
      "outputs": [
        {
          "output_type": "stream",
          "text": [
            "1.2 1.1 0.5 -1.5 1.13 -0.8\n",
            "1.1441 1.0311000000000001 0.3531 0.0 1.065 0.0\n",
            "0.8257039999999998 0.6980140000000001 0.0 0.0 0.7363209999999999 0.0\n",
            "0.6392404499999997 0.49495075000000016 0.0 0.0 0.5382376599999998 0.0\n",
            "0.5049259566999997 0.34187859570000023 0.0 0.0 0.3907928039999998 0.0\n",
            "0.4096786747389997 0.22543515680900028 0.0 0.0 0.2807082121879998 0.0\n",
            "0.3438800367693897 0.13568486150849035 0.0 0.0 0.19814341408675978 0.0\n",
            "0.3004823609420072 0.06522181289719091 0.0 0.0 0.13579997731063537 0.0\n",
            "0.27434952821498976 0.008505108924347374 0.0 0.0 0.0882584347115396 0.0\n",
            "0.26177026754232446 0.0 0.0 0.0 0.051487331883425774 0.0\n",
            "0.2550769143974791 0.0 0.0 0.0 0.017457197102923594 0.0\n",
            "0.25280747877409904 0.0 0.0 0.0 0.0 0.0\n",
            "-1.2 -1.1 -0.5 1.5 -1.13 0.8\n",
            "0.0 0.0 0.0 1.9069 0.0 1.1159\n",
            "0.0 0.0 0.0 1.761833 0.0 0.8680029999999999\n",
            "0.0 0.0 0.0 1.64899261 0.0 0.6389647099999998\n",
            "0.0 0.0 0.0 1.5659271977000002 0.0 0.42459567069999976\n",
            "0.0 0.0 0.0 1.5107297605090002 0.0 0.22102513499899973\n",
            "0.0 0.0 0.0 1.4819964929591303 0.0 0.024630266132829703\n",
            "0.0 0.0 0.0 1.4787945583618625 0.0 0.0\n",
            "1.2 1.5\n",
            "1.005 1.3439999999999999\n",
            "0.8302799999999999 1.21335\n",
            "0.6725444999999999 1.1054135999999999\n",
            "0.5288407319999999 1.0179828149999999\n",
            "0.3965029660499999 0.9492335198399999\n",
            "0.2731026084707999 0.8976881342534999\n",
            "0.1564031510178449 0.862184795152296\n",
            "0.04431912764804645 0.8418523855199761\n",
            "0.0 0.8360908989257301\n",
            "Max Number is 1.5\n"
          ],
          "name": "stdout"
        }
      ]
    },
    {
      "cell_type": "code",
      "metadata": {
        "id": "o21dTERQPcGG"
      },
      "source": [
        ""
      ],
      "execution_count": null,
      "outputs": []
    }
  ]
}